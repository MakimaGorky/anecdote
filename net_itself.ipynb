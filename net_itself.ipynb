{
 "cells": [
  {
   "cell_type": "code",
   "execution_count": 38,
   "id": "664f9b10-3893-4ee2-b021-e1df5b0eca00",
   "metadata": {},
   "outputs": [],
   "source": [
    "import sys, json, codecs, csv\n",
    "import numpy as np\n",
    "import random\n",
    "import pandas as pd\n",
    "import tqdm\n",
    "import itertools\n",
    "import seaborn as sns\n",
    "\n",
    "# visualization\n",
    "import matplotlib\n",
    "import numpy as np\n",
    "import matplotlib.pyplot as plt\n",
    "%matplotlib inline\n",
    "\n",
    "from gensim.models import word2vec\n",
    "\n",
    "import random as rnd\n",
    "\n",
    "data = np.array(['i play gitarr'])\n",
    "\n",
    "word = [] # 18 integers encode a word\n",
    "alphabet_len = 18\n",
    "seq_size = 10\n",
    "\n",
    "text = 'hi furiend lets play go go go furiend hi'\n",
    "\n",
    "words = np.array(list([[rnd.random() for j in range(18)] for i in range(10)]))\n",
    "# words\n",
    "\n",
    "word_dict = {'hi' : list([rnd.random() for j in range(18)]),\n",
    "             'furiend' : list([rnd.random() for j in range(18)]),\n",
    "             'lets' : list([rnd.random() for j in range(18)]),\n",
    "             'play' : list([rnd.random() for j in range(18)]),\n",
    "             'go' : list([rnd.random() for j in range(18)])}\n",
    "\n",
    "def word2id(word):\n",
    "    return dict[word]\n"
   ]
  },
  {
   "cell_type": "code",
   "execution_count": 39,
   "id": "58717573-67cd-403a-b5c3-80d38434f827",
   "metadata": {},
   "outputs": [],
   "source": [
    "# def get_batches_keras(batch_count=128, batch_size=64):\n",
    "#     batch_x = np.zeros((batch_size, seq_size))\n",
    "#     batch_y = np.zeros((batch_size, alphabet_len))\n",
    "#     for bi in range(batch_count):\n",
    "#         for seq_index in range(batch_size):\n",
    "#             pos = random.randint(0, len(text) - seq_size - 10)\n",
    "#             sequence = text[pos:pos+seq_size]\n",
    "#             next_char = text[pos+seq_size]\n",
    "#             for i in range(seq_size):\n",
    "#                 batch_x[seq_index, i] = word2id(next_char) #<initialize with character ids>\n",
    "#             batch_y[seq_index, :] = 0\n",
    "#             batch_y[seq_index, char2id[next_char]] = 1\n",
    "#         yield batch_x, batch_y\n",
    "\n",
    "# list(get_batches_keras(1, 15))"
   ]
  },
  {
   "cell_type": "code",
   "execution_count": 42,
   "id": "fc261108-66e9-494e-83ca-1bd051faf1be",
   "metadata": {},
   "outputs": [
    {
     "name": "stdout",
     "output_type": "stream",
     "text": [
      "Build model...\n"
     ]
    }
   ],
   "source": [
    "from keras.models import Sequential\n",
    "from keras.layers import Dense, Activation\n",
    "from keras.optimizers import RMSprop\n",
    "\n",
    "seq_size = 40\n",
    "\n",
    "print('Build model...')\n",
    "model = Sequential()\n",
    "\n",
    "model.add(Dense(alphabet_len))\n",
    "model.add(Activation('softmax'))\n",
    "optimizer = RMSprop(learning_rate=0.01)\n",
    "model.compile(loss='categorical_crossentropy', optimizer=optimizer)"
   ]
  },
  {
   "cell_type": "code",
   "execution_count": 43,
   "id": "0d0c90f6-7d3b-4872-aad4-643c33d991f0",
   "metadata": {},
   "outputs": [],
   "source": [
    "# def sample_character(preds, temperature=1.0):\n",
    "#     preds = np.asarray(preds).astype('float64')\n",
    "#     preds = np.log(preds) / temperature\n",
    "#     exp_preds = np.exp(preds)\n",
    "#     preds = exp_preds / np.sum(exp_preds)\n",
    "#     probas = np.random.multinomial(1, preds, 1)\n",
    "#     return np.argmax(probas)\n",
    "\n",
    "# sample_character([0.25, 0.5, 0.25])"
   ]
  },
  {
   "cell_type": "code",
   "execution_count": 46,
   "id": "6d135d4a-7c57-469f-b53a-a8b8499fa9ac",
   "metadata": {},
   "outputs": [
    {
     "data": {
      "text/plain": [
       "array([[6.2328106e-04, 7.9843802e-03, 6.1144917e-03, 2.6917721e-03,\n",
       "        1.8673003e-04, 3.4112293e-02, 3.1503141e-01, 5.5735889e-03,\n",
       "        5.2709755e-02, 1.9411041e-01, 3.0417487e-03, 5.7774654e-04,\n",
       "        1.2384203e-02, 1.3560902e-01, 3.7576279e-03, 2.9798099e-03,\n",
       "        2.5818583e-03, 2.1992978e-01],\n",
       "       [6.2328106e-04, 7.9843802e-03, 6.1144917e-03, 2.6917721e-03,\n",
       "        1.8673003e-04, 3.4112293e-02, 3.1503141e-01, 5.5735889e-03,\n",
       "        5.2709755e-02, 1.9411041e-01, 3.0417487e-03, 5.7774654e-04,\n",
       "        1.2384203e-02, 1.3560902e-01, 3.7576279e-03, 2.9798099e-03,\n",
       "        2.5818583e-03, 2.1992978e-01]], dtype=float32)"
      ]
     },
     "execution_count": 46,
     "metadata": {},
     "output_type": "execute_result"
    }
   ],
   "source": [
    "model.predict_on_batch(np.array([[1,2,3,5], [1,2,3,5]]))"
   ]
  },
  {
   "cell_type": "code",
   "execution_count": 44,
   "id": "060be808-a1ca-4e89-a97f-985ddd1c2e50",
   "metadata": {},
   "outputs": [
    {
     "name": "stdout",
     "output_type": "stream",
     "text": [
      "epoch: 0\n"
     ]
    },
    {
     "ename": "NameError",
     "evalue": "name 'get_batches' is not defined",
     "output_type": "error",
     "traceback": [
      "\u001b[1;31m---------------------------------------------------------------------------\u001b[0m",
      "\u001b[1;31mNameError\u001b[0m                                 Traceback (most recent call last)",
      "Cell \u001b[1;32mIn[44], line 4\u001b[0m\n\u001b[0;32m      2\u001b[0m \u001b[38;5;28mprint\u001b[39m(\u001b[38;5;124m\"\u001b[39m\u001b[38;5;124mepoch: \u001b[39m\u001b[38;5;132;01m{}\u001b[39;00m\u001b[38;5;124m\"\u001b[39m\u001b[38;5;241m.\u001b[39mformat(epoch))\n\u001b[0;32m      3\u001b[0m losses \u001b[38;5;241m=\u001b[39m []\n\u001b[1;32m----> 4\u001b[0m \u001b[38;5;28;01mfor\u001b[39;00m batch_x, batch_y \u001b[38;5;129;01min\u001b[39;00m \u001b[43mget_batches\u001b[49m():\n\u001b[0;32m      5\u001b[0m     loss \u001b[38;5;241m=\u001b[39m model\u001b[38;5;241m.\u001b[39mtrain_on_batch(batch_x, batch_y)\n\u001b[0;32m      6\u001b[0m     losses\u001b[38;5;241m.\u001b[39mappend(loss)\n",
      "\u001b[1;31mNameError\u001b[0m: name 'get_batches' is not defined"
     ]
    }
   ],
   "source": [
    "for epoch in range(100):\n",
    "    print(\"epoch: {}\".format(epoch))\n",
    "    losses = []\n",
    "    for batch_x, batch_y in get_batches():\n",
    "        loss = model.train_on_batch(batch_x, batch_y)\n",
    "        losses.append(loss)\n",
    "    print(\"train_loss: {}\".format(np.mean(losses)))\n",
    "\n",
    "    if epoch > 40:\n",
    "        max_gen_count = 500\n",
    "        index = random.randint(0, len(text) - 100)\n",
    "        for t in [0.1, 0.4, 0.7, 1]:\n",
    "            print(\"t={}\".format(t))\n",
    "\n",
    "            sentence = text[index: index + seq_size]\n",
    "            generated = sentence\n",
    "\n",
    "            for step in range(max_gen_count):\n",
    "                batch = np.zeros((1, seq_size,))\n",
    "                for i in range(seq_size):\n",
    "                    batch[0,i] = char2id[sentence[i]]\n",
    "                id = sample_character(model.predict_on_batch(batch)[0], t)\n",
    "                generated += chars[id]\n",
    "                sentence = sentence[1:] + chars[id]\n",
    "            print(generated)"
   ]
  },
  {
   "cell_type": "code",
   "execution_count": null,
   "id": "3ecc2479-1bfd-45e8-bf81-35bbee34a0be",
   "metadata": {},
   "outputs": [],
   "source": []
  }
 ],
 "metadata": {
  "kernelspec": {
   "display_name": "Python 3 (ipykernel)",
   "language": "python",
   "name": "python3"
  },
  "language_info": {
   "codemirror_mode": {
    "name": "ipython",
    "version": 3
   },
   "file_extension": ".py",
   "mimetype": "text/x-python",
   "name": "python",
   "nbconvert_exporter": "python",
   "pygments_lexer": "ipython3",
   "version": "3.11.4"
  }
 },
 "nbformat": 4,
 "nbformat_minor": 5
}
